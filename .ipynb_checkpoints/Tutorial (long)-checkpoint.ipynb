{
 "cells": [
  {
   "cell_type": "markdown",
   "id": "182f3be2",
   "metadata": {},
   "source": [
    "<h1>Exhaustive MCM community detection tutorial<span class=\"tocSkip\"></span></h1> \n",
    "\n",
    "Notebook contains all functions contained in the mcm_interface package with tutorial for running the MCM community detection algorithm. The algorithm detects communities in binary data by modeling all possible permutations. Because all possible permutations are checked the algorithm can handle a limited number of variables. All the models are compared using bayesian model selection. The first chapter contains all the basic functions to run the algorithm. The second section contains all extra functions.\n",
    "\n",
    "The original C++ implementation can be found __[here](https://github.com/clelidm/MinCompSpin)__. "
   ]
  },
  {
   "cell_type": "markdown",
   "id": "71f48aae",
   "metadata": {
    "toc": true
   },
   "source": [
    "<h1>Table of Contents<span class=\"tocSkip\"></span></h1>\n",
    "<div class=\"toc\"><ul class=\"toc-item\"><li><span><a href=\"#Basics\" data-toc-modified-id=\"Basics-1\"><span class=\"toc-item-num\">1&nbsp;&nbsp;</span>Basics</a></span><ul class=\"toc-item\"><li><span><a href=\"#Loading-input-data\" data-toc-modified-id=\"Loading-input-data-1.1\"><span class=\"toc-item-num\">1.1&nbsp;&nbsp;</span>Loading input data</a></span></li><li><span><a href=\"#Basis-selection\" data-toc-modified-id=\"Basis-selection-1.2\"><span class=\"toc-item-num\">1.2&nbsp;&nbsp;</span>Basis selection</a></span></li><li><span><a href=\"#Transform-basis\" data-toc-modified-id=\"Transform-basis-1.3\"><span class=\"toc-item-num\">1.3&nbsp;&nbsp;</span>Transform basis</a></span></li><li><span><a href=\"#Finding-the-best-model\" data-toc-modified-id=\"Finding-the-best-model-1.4\"><span class=\"toc-item-num\">1.4&nbsp;&nbsp;</span>Finding the best model</a></span></li></ul></li><li><span><a href=\"#Extra-functions\" data-toc-modified-id=\"Extra-functions-2\"><span class=\"toc-item-num\">2&nbsp;&nbsp;</span>Extra functions</a></span><ul class=\"toc-item\"><li><span><a href=\"#Print-model-information\" data-toc-modified-id=\"Print-model-information-2.1\"><span class=\"toc-item-num\">2.1&nbsp;&nbsp;</span>Print model information</a></span></li><li><span><a href=\"#Likelyhood-&amp;-evidence\" data-toc-modified-id=\"Likelyhood-&amp;-evidence-2.2\"><span class=\"toc-item-num\">2.2&nbsp;&nbsp;</span>Likelyhood &amp; evidence</a></span></li><li><span><a href=\"#Complexity\" data-toc-modified-id=\"Complexity-2.3\"><span class=\"toc-item-num\">2.3&nbsp;&nbsp;</span>Complexity</a></span></li><li><span><a href=\"#Test-partition\" data-toc-modified-id=\"Test-partition-2.4\"><span class=\"toc-item-num\">2.4&nbsp;&nbsp;</span>Test partition</a></span></li><li><span><a href=\"#MCM-functions\" data-toc-modified-id=\"MCM-functions-2.5\"><span class=\"toc-item-num\">2.5&nbsp;&nbsp;</span>MCM functions</a></span></li><li><span><a href=\"#Support-functions\" data-toc-modified-id=\"Support-functions-2.6\"><span class=\"toc-item-num\">2.6&nbsp;&nbsp;</span>Support functions</a></span></li></ul></li></ul></div>"
   ]
  },
  {
   "cell_type": "markdown",
   "id": "405f1ca4",
   "metadata": {},
   "source": [
    "## Basics\n",
    "Start by importing the interface package and defining the number of spin variables in the dataset. Make sure you compile the package before using the tutorial. "
   ]
  },
  {
   "cell_type": "code",
   "execution_count": 2,
   "id": "a15e3738",
   "metadata": {},
   "outputs": [],
   "source": [
    "import mcm_interface\n",
    "n = 9 # Number of spin variables."
   ]
  },
  {
   "cell_type": "markdown",
   "id": "774f652a",
   "metadata": {},
   "source": [
    "### Loading input data\n",
    "\n",
    "Set the filename variable with the path to the datafile you want to analyse. The data should contain rows of binary strings where each row is a state of the system. This dataset is translated into a dictionary where the key is a binary state in the form of an int and the values contain the number of occurences of this state. For this tutorial a Supreme Court voting dataset is used."
   ]
  },
  {
   "cell_type": "code",
   "execution_count": null,
   "id": "876200f0",
   "metadata": {},
   "outputs": [],
   "source": [
    "filename = \"INPUT/SCOTUS_n9_N895.dat\"\n",
    "dataSet = mcm_interface.read_datafile(0, n, filename)\n",
    "N = sum(dataSet.values()) # Size of the dataset."
   ]
  },
  {
   "cell_type": "markdown",
   "id": "ac27fe5c",
   "metadata": {},
   "source": [
    "### Basis selection\n",
    "Specify the basis of the spin variables. This can be the original basis. The number of basis elements must be smaller than n or the elements will not be independent. With the **PrintTerm_Basis** function all the elements in the basis are shown in integer form and binary form. In the binary representation a 1 means the variable is part of the spin operator. The integer form is the translation of the binary form to an integer, so to understand the data the binary form is required."
   ]
  },
  {
   "cell_type": "code",
   "execution_count": null,
   "id": "ef5e7f1b",
   "metadata": {
    "scrolled": true
   },
   "outputs": [],
   "source": [
    "basis = mcm_interface.Original_Basis(n)\n",
    "r = len(basis) # Rank of the basis.\n",
    "mcm_interface.PrintTerm_Basis(basis, n)"
   ]
  },
  {
   "cell_type": "markdown",
   "id": "4568dd8c",
   "metadata": {},
   "source": [
    "It is also possible to read the basis in from a file with the following functions. Here the binary or integer representation can be used."
   ]
  },
  {
   "cell_type": "code",
   "execution_count": null,
   "id": "1ae1d485",
   "metadata": {},
   "outputs": [],
   "source": [
    "basis_1 = mcm_interface.Read_BasisOp_IntegerRepresentation(filename)\n",
    "basis_2 = mcm_interface.Read_BasisOp_BinaryRepresentation(filename, n)"
   ]
  },
  {
   "cell_type": "markdown",
   "id": "61b7e4b6",
   "metadata": {},
   "source": [
    "### Transform basis\n",
    "Translate the dataset to the basis chosen above, this is not necessary if the original basis is used.  "
   ]
  },
  {
   "cell_type": "code",
   "execution_count": null,
   "id": "5aa60054",
   "metadata": {
    "scrolled": true
   },
   "outputs": [],
   "source": [
    "Kset = mcm_interface.build_Kset(dataSet, basis, n, False)"
   ]
  },
  {
   "cell_type": "markdown",
   "id": "dc3657de",
   "metadata": {},
   "source": [
    "### Finding the best model\n",
    "The function below runs the community detection algorithm. The algorithm works by trying all different permutations of the model. All the variables are assumed to be part of the model and it's assumed there are no noise variables. There are 26443 different MCMs that can be generated from a given IM with n = 9. For every MCM the likelyhood of it being the best model gets calculated with bayesian model selection. The algorithm calculates the complexity and evidence for all sub parts of the model and adds these together to get the evidence. The model with the highest evidence is also the model that is most likely to represent the data in the best way. \n",
    "\n",
    "\n",
    "If the last argument is set to **True** all tested partitions will be printed in a file with the log evidence, parameter complexity, geometric complexity and total complexity."
   ]
  },
  {
   "cell_type": "code",
   "execution_count": null,
   "id": "9637a894",
   "metadata": {},
   "outputs": [],
   "source": [
    "MCM_Partition = mcm_interface.MCM_GivenRank_r(Kset, N, 0, r, n, False)"
   ]
  },
  {
   "cell_type": "markdown",
   "id": "551dd51a",
   "metadata": {},
   "source": [
    "## Extra functions\n",
    "The following functions are available to get extra information about the result of the algorithm and to give more insight into the workings of the algoritm."
   ]
  },
  {
   "cell_type": "markdown",
   "id": "e4efc133",
   "metadata": {},
   "source": [
    "\n",
    "\n",
    "### Print model information\n",
    "To get information about a certain partition the following functions can be used:\n",
    "- __PrintTerminal_MCM_Info__ prints all information about a partition.\n"
   ]
  },
  {
   "cell_type": "code",
   "execution_count": null,
   "id": "bda3b15b",
   "metadata": {},
   "outputs": [],
   "source": [
    "mcm_interface.PrintTerminal_MCM_Info(Kset, N, n, MCM_Partition) "
   ]
  },
  {
   "cell_type": "markdown",
   "id": "8571f7f8",
   "metadata": {},
   "source": [
    "### Likelyhood & evidence\n",
    "Print the likelyhood and evidence of all spin operators. Order spins from most biased to least biased. On the first line only the first operator is in the model and the rest of the variables are left out. Each operator is added one by one to the model but are still independent from each other. The higher the evidence the better the model. This shows that a model containing more variables gives a higher evidence and likelyhood."
   ]
  },
  {
   "cell_type": "code",
   "execution_count": null,
   "id": "66911986",
   "metadata": {},
   "outputs": [],
   "source": [
    "mcm_interface.PrintInfo_All_Indep_Models(Kset, N, n)"
   ]
  },
  {
   "cell_type": "markdown",
   "id": "c689b50e",
   "metadata": {},
   "source": [
    "Print the likelyhood and evidence of all spin operators. Add operators one by one. The first model is the same as the model with all independent variables. On the second line the model contains the first two variables and they are interacting and thus in the same community. Each spin variable is added to the model and to the same interaction. The last one is complete model all variables are interacting with each other and thus in the same community. The likelyhood and evidence is a lot higher compared to the model where no variables are interacting."
   ]
  },
  {
   "cell_type": "code",
   "execution_count": null,
   "id": "58c5de32",
   "metadata": {},
   "outputs": [],
   "source": [
    "mcm_interface.PrintInfo_All_SubComplete_Models(Kset, N, n)"
   ]
  },
  {
   "cell_type": "markdown",
   "id": "73d91518",
   "metadata": {},
   "source": [
    "**LogL_SubCM** can be used to calculate the likelyhood of a part in a model."
   ]
  },
  {
   "cell_type": "code",
   "execution_count": null,
   "id": "f5808007",
   "metadata": {
    "scrolled": true
   },
   "outputs": [],
   "source": [
    "mcm_interface.LogL_SubCM(Kset, MCM_Partition[0], N, n, False)"
   ]
  },
  {
   "cell_type": "markdown",
   "id": "aee60b38",
   "metadata": {},
   "source": [
    "**LogE_SubCM** can be used to calculate the evidence of a part in a model."
   ]
  },
  {
   "cell_type": "code",
   "execution_count": null,
   "id": "43047192",
   "metadata": {},
   "outputs": [],
   "source": [
    "mcm_interface.LogE_SubCM(Kset, MCM_Partition[0], N, n, False)"
   ]
  },
  {
   "cell_type": "markdown",
   "id": "4d76e99c",
   "metadata": {},
   "source": [
    "**LogL_CM** gives the likelyhood of a complete model."
   ]
  },
  {
   "cell_type": "code",
   "execution_count": null,
   "id": "72fbc66d",
   "metadata": {},
   "outputs": [],
   "source": [
    "mcm_interface.LogL_CM(Kset, N)"
   ]
  },
  {
   "cell_type": "markdown",
   "id": "be77804c",
   "metadata": {},
   "source": [
    "**LogL_MCM** gives the likelyhood of a minimally complex model."
   ]
  },
  {
   "cell_type": "code",
   "execution_count": null,
   "id": "21cabc76",
   "metadata": {},
   "outputs": [],
   "source": [
    "mcm_interface.LogL_MCM(Kset, MCM_Partition, N, n, False)"
   ]
  },
  {
   "cell_type": "markdown",
   "id": "1b76234b",
   "metadata": {},
   "source": [
    "**LogE_MCM** gives the evidence of a minimally complex model."
   ]
  },
  {
   "cell_type": "code",
   "execution_count": null,
   "id": "e78001a4",
   "metadata": {},
   "outputs": [],
   "source": [
    "mcm_interface.LogE_MCM(Kset, MCM_Partition, N, n, False)"
   ]
  },
  {
   "cell_type": "markdown",
   "id": "d67db7c4",
   "metadata": {},
   "source": [
    "### Complexity\n",
    "The function __Complexity_MCM__ gives the total complexity of a model. It takes as input the following arguments:\n",
    "- The chosen partition\n",
    "- the size of the datset  **N** \n",
    "- the number of variables **n**"
   ]
  },
  {
   "cell_type": "code",
   "execution_count": null,
   "id": "ed84fb75",
   "metadata": {},
   "outputs": [],
   "source": [
    "mcm_interface.Complexity_MCM(MCM_Partition, N, n, 0, 0)"
   ]
  },
  {
   "cell_type": "markdown",
   "id": "8591cd2b",
   "metadata": {},
   "source": [
    "\n",
    "To get the seperate complexity of parts of the MCM the functions **GeomComplexity_SubCM** and **ParamComplexity_SubCM** can be used. The function takes the size **m** of the part you want to test, and for the parametric complexity also the size of the dataset **N**."
   ]
  },
  {
   "cell_type": "code",
   "execution_count": null,
   "id": "917ae737",
   "metadata": {},
   "outputs": [],
   "source": [
    "part = MCM_Partition[0]\n",
    "m = mcm_interface.countSetBits(part) # count the size of the part.\n",
    "mcm_interface.GeomComplexity_SubCM(m)\n",
    "mcm_interface.ParamComplexity_SubCM(m, N)"
   ]
  },
  {
   "cell_type": "markdown",
   "id": "bdef4e8a",
   "metadata": {},
   "source": [
    "### Test partition\n",
    "A custom partition can be created using the **Create_MCM** function. The partition must be given in integer form. To make sure you created a valid partition the **check_partition** function can be used. After this you can get information about your model with any of the print functions."
   ]
  },
  {
   "cell_type": "code",
   "execution_count": null,
   "id": "420e6f8a",
   "metadata": {},
   "outputs": [],
   "source": [
    "MCM_Choice = [int('100000000',2), int('011111111',2)]\n",
    "MCM_Partition0 = mcm_interface.Create_MCM(MCM_Choice)\n",
    "if mcm_interface.check_partition(MCM_Partition0, n):\n",
    "    mcm_interface.PrintTerminal_MCM_Info(Kset, N, n, MCM_Partition0)"
   ]
  },
  {
   "cell_type": "markdown",
   "id": "9ae96b19",
   "metadata": {},
   "source": [
    "A chosen partition can also be read from a file in binary representation. The file needs to contain rows of parts in binary representation."
   ]
  },
  {
   "cell_type": "code",
   "execution_count": null,
   "id": "4708ff96",
   "metadata": {},
   "outputs": [],
   "source": [
    "MCM_Partition0 = mcm_interface.Read_MCMParts_BinaryRepresentation(filename, n)"
   ]
  },
  {
   "cell_type": "markdown",
   "id": "9b2e8e43",
   "metadata": {},
   "source": [
    "### MCM functions\n",
    "There are two extra function for finding the best model that account for the possibility that a variable is noise and does not belong in the system. With this possibility many more models need to be tested that with the **MCM_GivenRank_r** function. Thus this should only be used if you expect this to be the case."
   ]
  },
  {
   "cell_type": "markdown",
   "id": "51da7623",
   "metadata": {},
   "source": [
    "The first function assumes the variables are ordered from most likely to be in the system to least. It checks all ordered partitions of rank r and smaller than r. When it checks partitions smaller than r always the last variable is left out of the system."
   ]
  },
  {
   "cell_type": "code",
   "execution_count": null,
   "id": "b9dab0cb",
   "metadata": {},
   "outputs": [],
   "source": [
    "MCM_Partition1 = mcm_interface.MCM_AllRank_SmallerThan_r_Ordered(Kset, N, 0, r, n, False)"
   ]
  },
  {
   "cell_type": "markdown",
   "id": "befba372",
   "metadata": {},
   "source": [
    "The second function does not assume there is a order in the variable set and checks all possible combinations. "
   ]
  },
  {
   "cell_type": "code",
   "execution_count": null,
   "id": "ac25a6fa",
   "metadata": {},
   "outputs": [],
   "source": [
    "MCM_Partition1 = mcm_interface.MCM_AllRank_SmallerThan_r_nonOrdered(Kset, N, 0, r, n, False)"
   ]
  },
  {
   "cell_type": "markdown",
   "id": "5ffe025c",
   "metadata": {},
   "source": [
    "### Support functions\n",
    "\n",
    "The function **int_to_bstring** is used to turn an integer value into its binary counter part. This is useful since the output of the algorithm is in integer form and from this the communities can not be interpreted. The function takes two input values, an integer you want to translate followed by the length of the binary string you want as output."
   ]
  },
  {
   "cell_type": "code",
   "execution_count": null,
   "id": "1b1f39a0",
   "metadata": {
    "scrolled": true
   },
   "outputs": [],
   "source": [
    "mcm_interface.int_to_bstring(222, n)"
   ]
  },
  {
   "cell_type": "markdown",
   "id": "218dc44e",
   "metadata": {},
   "source": [
    "The function **count_set_bits** counts the number of set bits with as input an integer value."
   ]
  },
  {
   "cell_type": "code",
   "execution_count": null,
   "id": "714b3f65",
   "metadata": {},
   "outputs": [],
   "source": [
    "mcm_interface.count_set_bits(64)"
   ]
  },
  {
   "cell_type": "code",
   "execution_count": null,
   "id": "55bd7ee5",
   "metadata": {},
   "outputs": [],
   "source": []
  }
 ],
 "metadata": {
  "kernelspec": {
   "display_name": "Python 3 (ipykernel)",
   "language": "python",
   "name": "python3"
  },
  "language_info": {
   "codemirror_mode": {
    "name": "ipython",
    "version": 3
   },
   "file_extension": ".py",
   "mimetype": "text/x-python",
   "name": "python",
   "nbconvert_exporter": "python",
   "pygments_lexer": "ipython3",
   "version": "3.9.9"
  },
  "toc": {
   "base_numbering": 1,
   "nav_menu": {},
   "number_sections": true,
   "sideBar": true,
   "skip_h1_title": false,
   "title_cell": "Table of Contents",
   "title_sidebar": "Contents",
   "toc_cell": true,
   "toc_position": {},
   "toc_section_display": true,
   "toc_window_display": true
  }
 },
 "nbformat": 4,
 "nbformat_minor": 5
}
