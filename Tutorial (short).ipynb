{
 "cells": [
  {
   "cell_type": "markdown",
   "id": "94d1e5bd",
   "metadata": {},
   "source": [
    "# Community detection tutorial\n",
    "\n",
    "Notebook contains a step by step tutorial for running the minimally complex spin model algorithm. The algorithm can handle no more that 15 variables at a time. \n",
    "\n",
    "This tutorial uses stock data as input. The dataset contains 41 stocks with 6909 moments in time when stocks are rising or falling.\n",
    "\n",
    "Start by importing the required packages and specifying the number of variables and states."
   ]
  },
  {
   "cell_type": "code",
   "execution_count": 3,
   "id": "fe0a8c1d",
   "metadata": {},
   "outputs": [],
   "source": [
    "import mcm_interface\n",
    "import pandas as pd\n",
    "import matplotlib.pyplot as plt\n",
    "\n",
    "\n",
    "n = 41 # Number of spin variables.\n",
    "N = 6909 # Number of states in the system."
   ]
  },
  {
   "cell_type": "markdown",
   "id": "35b1ec82",
   "metadata": {},
   "source": [
    "### Loading input data\n",
    "\n",
    "The data should contain rows of binary strings where each row is a state of the system. The algorithm takes as input a frequency dictionary of the states of the system. The package contains a function for turning a file into a frequency dictionary, but this function can not handle more than 32 variables. So to read larger files a pandas dataframe can be used. Smaller partitions that the algorithm can handle can then be chosen from this dataframe."
   ]
  },
  {
   "cell_type": "code",
   "execution_count": 4,
   "id": "08dd00d8",
   "metadata": {},
   "outputs": [],
   "source": [
    "filename = \"INPUT/fort.66_n42_N6909.dat\"\n",
    "f = open(filename, 'r')\n",
    "lines = f.readlines()\n",
    "\n",
    "data = []\n",
    "for line in lines:\n",
    "    line = line.strip('\\n')\n",
    "    row = []\n",
    "    for i in line:\n",
    "        row.append(i)\n",
    "    data.append(row)\n",
    "\n",
    "df = pd.DataFrame(data=data, index=None, columns=None)"
   ]
  },
  {
   "cell_type": "markdown",
   "id": "da08d954",
   "metadata": {},
   "source": [
    "The function below creates a frequency dictionary from rows of binary. With as key the integer translation of the binary."
   ]
  },
  {
   "cell_type": "code",
   "execution_count": 6,
   "id": "4305ba6c",
   "metadata": {},
   "outputs": [],
   "source": [
    "def frequency_dict(subset, N):\n",
    "    dataset = []\n",
    "    for i in range(0,N):\n",
    "        z = ''\n",
    "        for i in subset.iloc[i].values:\n",
    "            z = z + i\n",
    "        dataset.append(int(z,2))\n",
    "\n",
    "    Kset = dict()\n",
    "    for i in dataset:\n",
    "        if i in Kset.keys():\n",
    "            Kset[i] += 1\n",
    "        else:\n",
    "            Kset[i] = 1\n",
    "    return Kset"
   ]
  },
  {
   "cell_type": "markdown",
   "id": "344daf5f",
   "metadata": {},
   "source": [
    "Choose a subset from the dataframe and create a frequency dictionary called Kset. The chosen subset consists of 10 stocks of which 7 are power companies and 3 oil and gas companies."
   ]
  },
  {
   "cell_type": "code",
   "execution_count": 9,
   "id": "e1d59115",
   "metadata": {},
   "outputs": [],
   "source": [
    "subset = df[[1,3,10,11,15,16,18,20,36,40]]\n",
    "n = len(subset.columns)\n",
    "Kset = frequency_dict(subset, N)"
   ]
  },
  {
   "cell_type": "markdown",
   "id": "1774c297",
   "metadata": {},
   "source": [
    "### Basis selection\n",
    "Specify the basis of the spin variables. This can be the original basis. With n being the size of the subset. The number of basis elements must be smaller than n or the elements will not be independent. With the print function all the elements in the basis are shown in integer form and binary form. In the binary representation a 1 means the variable is part of the spin operator."
   ]
  },
  {
   "cell_type": "code",
   "execution_count": 10,
   "id": "88584b03",
   "metadata": {
    "scrolled": true
   },
   "outputs": [
    {
     "name": "stdout",
     "output_type": "stream",
     "text": [
      "##\t 1 \t 1 \t 0000000001\n",
      "##\t 2 \t 2 \t 0000000010\n",
      "##\t 3 \t 4 \t 0000000100\n",
      "##\t 4 \t 8 \t 0000001000\n",
      "##\t 5 \t 16 \t 0000010000\n",
      "##\t 6 \t 32 \t 0000100000\n",
      "##\t 7 \t 64 \t 0001000000\n",
      "##\t 8 \t 128 \t 0010000000\n",
      "##\t 9 \t 256 \t 0100000000\n",
      "##\t 10 \t 512 \t 1000000000\n",
      "##\n"
     ]
    }
   ],
   "source": [
    "basis = mcm_interface.Original_Basis(n)\n",
    "r = len(basis) # Rank of the basis.\n",
    "mcm_interface.PrintTerm_Basis(basis, n)"
   ]
  },
  {
   "cell_type": "markdown",
   "id": "a4bb8c36",
   "metadata": {},
   "source": [
    "### Transform basis\n",
    "Translate the dataset to the basis chosen above, this is not necessary if the original basis is used.  "
   ]
  },
  {
   "cell_type": "code",
   "execution_count": 5,
   "id": "18bbcecf",
   "metadata": {
    "scrolled": true
   },
   "outputs": [],
   "source": [
    "Kset = mcm_interface.build_Kset(dataSet, basis, n, False)"
   ]
  },
  {
   "cell_type": "markdown",
   "id": "a0136f91",
   "metadata": {},
   "source": [
    "### Finding the best model\n",
    "The function below runs the community detection algorithm. The algorithm works by trying all different permutations of the model. All the variables are assumed to be part of the model and it's assumed there are no noise variables. For every MCM the evidence of it being the best model gets calculated with bayesian model selection. The algorithm calculates the complexity and likelyhood for all sub parts of the model and adds these together to get the evidence. The model with the highest evidence is the model that represent the data in the best way. \n",
    "\n",
    "If the last argument is set to **True** all tested partitions will be printed in a file with the log evidence, parameter complexity, geometric complexity and total complexity."
   ]
  },
  {
   "cell_type": "code",
   "execution_count": 16,
   "id": "b0aea3b7",
   "metadata": {
    "scrolled": true
   },
   "outputs": [
    {
     "name": "stdout",
     "output_type": "stream",
     "text": [
      "--->> Search for the best MCM..\n",
      "\n",
      "--> Print the LogE-value of all the MCM of rank r=10 in the file 'OUTPUT/AllMCMs_Rank_r=10.dat'\n",
      "\n",
      "--> Number of MCModels (of rank r=10) that were compared: 115975\n",
      "\n",
      "********** Best MCM: **********\n",
      "\t !! The first operator of the basis provided corresponds to the bit the most on the right !!\n",
      "\t !! The last operator corresponds to the bit the most on the left !!\n",
      "\n",
      "\t >> Best Model = 0001000201\t \t LogE = -45649.5\n",
      "\n"
     ]
    }
   ],
   "source": [
    "MCM_Partition = mcm_interface.MCM_GivenRank_r(Kset, N, 0, r, n, True)"
   ]
  },
  {
   "cell_type": "markdown",
   "id": "7919dd9f",
   "metadata": {},
   "source": [
    "### Print model information\n",
    "To get information about a certain partition the following functions can be used:\n",
    "- __PrintTerminal_MCM_Info__ prints all information about a partition.\n"
   ]
  },
  {
   "cell_type": "code",
   "execution_count": 17,
   "id": "796993da",
   "metadata": {},
   "outputs": [
    {
     "name": "stdout",
     "output_type": "stream",
     "text": [
      "********** General Information about the MCM: **********\n",
      "Best MCM has 3 partitions and the following properties:\n",
      "\t LogL = -45314.7\n",
      " \t C_param = 458.677 \t \t C_geom = -124.312\n",
      " \t Total complexity = 334.365\n",
      " \t MDL = -45649.1\n",
      "  \t LogE = -45649.5\n",
      "\n",
      "********** Information about each part of the MCM: **********\n",
      "\t (the total LogE of the model is the sum of the values for each part)\n",
      "\t !! The first operator of the basis provided corresponds to the bit the most on the right !!\n",
      "\t !! The last operator corresponds to the bit the most on the left !!\n",
      "\n",
      "## 1:Part_int \t 2:Part_binary \t 3:LogL \t 4:C_param \t 5:C_geom \t 6:C_tot \t 7:LogE\n",
      " \t 954 \t 1110111010 \t-31300.2 \t444.672 \t -127.747 \t316.925 \t-31617.6\n",
      " \t 65 \t 0001000001 \t-9226.2 \t10.5041 \t 2.28946 \t12.7935 \t-9239\n",
      " \t 4 \t 0000000100 \t-4788.3 \t3.50135 \t 1.14473 \t4.64608 \t-4792.95\n",
      "\n"
     ]
    }
   ],
   "source": [
    "mcm_interface.PrintTerminal_MCM_Info(Kset, N, n, MCM_Partition) "
   ]
  },
  {
   "cell_type": "markdown",
   "id": "5d3b73b1",
   "metadata": {},
   "source": [
    "### Analysing the results\n",
    "When the last argument of the **MCM_GivenRank_r** is set to True all tested models will be output to a file. To access this data the file can be read to a dataframe and be analysed. The file contains the communities with corresponding log evidence, parameter complexity, geometric complexity and total complexity."
   ]
  },
  {
   "cell_type": "code",
   "execution_count": 50,
   "id": "9c1e6390",
   "metadata": {},
   "outputs": [
    {
     "name": "stdout",
     "output_type": "stream",
     "text": [
      "['# 1:Partition', '2:LogE', '3:C_K', '4:C_geom', '5:C_tot', '6:counter']\n"
     ]
    }
   ],
   "source": [
    "filename = \"OUTPUT/AllMCMs_Rank_r10.dat\"\n",
    "f = open(filename, 'r')\n",
    "lines = f.readlines()\n",
    "\n",
    "data = []\n",
    "first = True\n",
    "for line in lines:\n",
    "    row = []\n",
    "    if first is True:\n",
    "        for i in line.split('\\t'):\n",
    "            row.append(i.strip())\n",
    "        cols = row\n",
    "        first = False\n",
    "    else:\n",
    "        for i in line.split('\\t'):\n",
    "            row.append(float(i.strip()))\n",
    "        data.append(row)\n",
    "\n",
    "print(cols)\n",
    "df = pd.DataFrame(data=data, index=None, columns=cols)"
   ]
  },
  {
   "cell_type": "markdown",
   "id": "37e1e5b3",
   "metadata": {},
   "source": [
    "From the dataframe analysis can be performed, the partitions can be sorted by each of the values. Below the top 10 partitions are shown. Or the histogram of the evidence can be printed showing the spread of partition scores."
   ]
  },
  {
   "cell_type": "code",
   "execution_count": 49,
   "id": "425750da",
   "metadata": {},
   "outputs": [
    {
     "data": {
      "text/html": [
       "<div>\n",
       "<style scoped>\n",
       "    .dataframe tbody tr th:only-of-type {\n",
       "        vertical-align: middle;\n",
       "    }\n",
       "\n",
       "    .dataframe tbody tr th {\n",
       "        vertical-align: top;\n",
       "    }\n",
       "\n",
       "    .dataframe thead th {\n",
       "        text-align: right;\n",
       "    }\n",
       "</style>\n",
       "<table border=\"1\" class=\"dataframe\">\n",
       "  <thead>\n",
       "    <tr style=\"text-align: right;\">\n",
       "      <th></th>\n",
       "      <th># 1:Partition</th>\n",
       "      <th>2:LogE</th>\n",
       "      <th>3:C_K</th>\n",
       "      <th>4:C_geom</th>\n",
       "      <th>5:C_tot</th>\n",
       "      <th>6:counter</th>\n",
       "    </tr>\n",
       "  </thead>\n",
       "  <tbody>\n",
       "    <tr>\n",
       "      <th>898</th>\n",
       "      <td>1000201.0</td>\n",
       "      <td>-45649.5</td>\n",
       "      <td>458.677</td>\n",
       "      <td>-124.3120</td>\n",
       "      <td>334.365</td>\n",
       "      <td>899.0</td>\n",
       "    </tr>\n",
       "    <tr>\n",
       "      <th>888</th>\n",
       "      <td>1000101.0</td>\n",
       "      <td>-45653.8</td>\n",
       "      <td>469.181</td>\n",
       "      <td>-124.9590</td>\n",
       "      <td>344.222</td>\n",
       "      <td>889.0</td>\n",
       "    </tr>\n",
       "    <tr>\n",
       "      <th>878</th>\n",
       "      <td>1000001.0</td>\n",
       "      <td>-45799.1</td>\n",
       "      <td>903.349</td>\n",
       "      <td>-342.7390</td>\n",
       "      <td>560.610</td>\n",
       "      <td>879.0</td>\n",
       "    </tr>\n",
       "    <tr>\n",
       "      <th>1231</th>\n",
       "      <td>1020301.0</td>\n",
       "      <td>-45898.4</td>\n",
       "      <td>238.092</td>\n",
       "      <td>-36.8819</td>\n",
       "      <td>201.210</td>\n",
       "      <td>1232.0</td>\n",
       "    </tr>\n",
       "    <tr>\n",
       "      <th>1214</th>\n",
       "      <td>1020201.0</td>\n",
       "      <td>-45900.0</td>\n",
       "      <td>241.593</td>\n",
       "      <td>-36.8819</td>\n",
       "      <td>204.711</td>\n",
       "      <td>1215.0</td>\n",
       "    </tr>\n",
       "    <tr>\n",
       "      <th>1197</th>\n",
       "      <td>1020101.0</td>\n",
       "      <td>-45902.7</td>\n",
       "      <td>248.596</td>\n",
       "      <td>-37.5290</td>\n",
       "      <td>211.067</td>\n",
       "      <td>1198.0</td>\n",
       "    </tr>\n",
       "    <tr>\n",
       "      <th>1049</th>\n",
       "      <td>1010201.0</td>\n",
       "      <td>-45904.7</td>\n",
       "      <td>248.596</td>\n",
       "      <td>-37.5290</td>\n",
       "      <td>211.067</td>\n",
       "      <td>1050.0</td>\n",
       "    </tr>\n",
       "    <tr>\n",
       "      <th>1039</th>\n",
       "      <td>1010101.0</td>\n",
       "      <td>-45918.2</td>\n",
       "      <td>273.105</td>\n",
       "      <td>-40.8282</td>\n",
       "      <td>232.277</td>\n",
       "      <td>1040.0</td>\n",
       "    </tr>\n",
       "    <tr>\n",
       "      <th>1180</th>\n",
       "      <td>1020001.0</td>\n",
       "      <td>-45980.4</td>\n",
       "      <td>458.677</td>\n",
       "      <td>-124.3120</td>\n",
       "      <td>334.365</td>\n",
       "      <td>1181.0</td>\n",
       "    </tr>\n",
       "    <tr>\n",
       "      <th>1029</th>\n",
       "      <td>1010001.0</td>\n",
       "      <td>-45986.7</td>\n",
       "      <td>469.181</td>\n",
       "      <td>-124.9590</td>\n",
       "      <td>344.222</td>\n",
       "      <td>1030.0</td>\n",
       "    </tr>\n",
       "  </tbody>\n",
       "</table>\n",
       "</div>"
      ],
      "text/plain": [
       "      # 1:Partition   2:LogE    3:C_K  4:C_geom  5:C_tot  6:counter\n",
       "898       1000201.0 -45649.5  458.677 -124.3120  334.365      899.0\n",
       "888       1000101.0 -45653.8  469.181 -124.9590  344.222      889.0\n",
       "878       1000001.0 -45799.1  903.349 -342.7390  560.610      879.0\n",
       "1231      1020301.0 -45898.4  238.092  -36.8819  201.210     1232.0\n",
       "1214      1020201.0 -45900.0  241.593  -36.8819  204.711     1215.0\n",
       "1197      1020101.0 -45902.7  248.596  -37.5290  211.067     1198.0\n",
       "1049      1010201.0 -45904.7  248.596  -37.5290  211.067     1050.0\n",
       "1039      1010101.0 -45918.2  273.105  -40.8282  232.277     1040.0\n",
       "1180      1020001.0 -45980.4  458.677 -124.3120  334.365     1181.0\n",
       "1029      1010001.0 -45986.7  469.181 -124.9590  344.222     1030.0"
      ]
     },
     "execution_count": 49,
     "metadata": {},
     "output_type": "execute_result"
    },
    {
     "data": {
      "image/png": "[encoded data removed]",
      "text/plain": [
       "<Figure size 432x288 with 1 Axes>"
      ]
     },
     "metadata": {
      "needs_background": "light"
     },
     "output_type": "display_data"
    }
   ],
   "source": [
    "df.hist(column='2:LogE', bins=30)\n",
    "df.sort_values('2:LogE', ascending=False).head(10)"
   ]
  }
 ],
 "metadata": {
  "kernelspec": {
   "display_name": "Python 3 (ipykernel)",
   "language": "python",
   "name": "python3"
  },
  "language_info": {
   "codemirror_mode": {
    "name": "ipython",
    "version": 3
   },
   "file_extension": ".py",
   "mimetype": "text/x-python",
   "name": "python",
   "nbconvert_exporter": "python",
   "pygments_lexer": "ipython3",
   "version": "3.9.9"
  }
 },
 "nbformat": 4,
 "nbformat_minor": 5
}
